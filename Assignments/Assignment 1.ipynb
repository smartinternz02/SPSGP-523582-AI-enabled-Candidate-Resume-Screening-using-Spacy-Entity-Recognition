{
 "cells": [
  {
   "cell_type": "markdown",
   "id": "95cbf5e4",
   "metadata": {},
   "source": [
    "# Task 1"
   ]
  },
  {
   "cell_type": "code",
   "execution_count": 3,
   "id": "f189a7ae",
   "metadata": {},
   "outputs": [],
   "source": [
    "import pandas as pd\n",
    "import numpy as np"
   ]
  },
  {
   "cell_type": "code",
   "execution_count": 8,
   "id": "9b8220b0",
   "metadata": {},
   "outputs": [],
   "source": [
    "Height=pd.Series(np.random.randint(100,300,size=(4)))\n",
    "Weight=pd.Series(np.random.default_rng().uniform(20,200,size=(4)))\n",
    "BodyFat=pd.Series(np.random.randint(0,100,size=(4)))\n",
    "Size=pd.Series(np.random.randint(1,10,size=(4)))"
   ]
  },
  {
   "cell_type": "code",
   "execution_count": 10,
   "id": "84b6aef5",
   "metadata": {},
   "outputs": [],
   "source": [
    "df=pd.DataFrame([Height,Weight,BodyFat,Size])"
   ]
  },
  {
   "cell_type": "markdown",
   "id": "7be7a1bd",
   "metadata": {},
   "source": [
    "# Task 2"
   ]
  },
  {
   "cell_type": "code",
   "execution_count": 35,
   "id": "e4b3b1ac",
   "metadata": {},
   "outputs": [
    {
     "data": {
      "text/html": [
       "<div>\n",
       "<style scoped>\n",
       "    .dataframe tbody tr th:only-of-type {\n",
       "        vertical-align: middle;\n",
       "    }\n",
       "\n",
       "    .dataframe tbody tr th {\n",
       "        vertical-align: top;\n",
       "    }\n",
       "\n",
       "    .dataframe thead th {\n",
       "        text-align: right;\n",
       "    }\n",
       "</style>\n",
       "<table border=\"1\" class=\"dataframe\">\n",
       "  <thead>\n",
       "    <tr style=\"text-align: right;\">\n",
       "      <th></th>\n",
       "      <th>Random Value 1</th>\n",
       "      <th>Random Value 2</th>\n",
       "      <th>Random Value 3</th>\n",
       "      <th>Random Value 4</th>\n",
       "    </tr>\n",
       "  </thead>\n",
       "  <tbody>\n",
       "    <tr>\n",
       "      <th>0</th>\n",
       "      <td>290.000000</td>\n",
       "      <td>143.000000</td>\n",
       "      <td>135.000000</td>\n",
       "      <td>204.000000</td>\n",
       "    </tr>\n",
       "    <tr>\n",
       "      <th>1</th>\n",
       "      <td>50.115676</td>\n",
       "      <td>178.725731</td>\n",
       "      <td>199.601213</td>\n",
       "      <td>49.677711</td>\n",
       "    </tr>\n",
       "    <tr>\n",
       "      <th>2</th>\n",
       "      <td>72.000000</td>\n",
       "      <td>55.000000</td>\n",
       "      <td>28.000000</td>\n",
       "      <td>51.000000</td>\n",
       "    </tr>\n",
       "    <tr>\n",
       "      <th>3</th>\n",
       "      <td>6.000000</td>\n",
       "      <td>1.000000</td>\n",
       "      <td>4.000000</td>\n",
       "      <td>5.000000</td>\n",
       "    </tr>\n",
       "  </tbody>\n",
       "</table>\n",
       "</div>"
      ],
      "text/plain": [
       "   Random Value 1  Random Value 2  Random Value 3  Random Value 4\n",
       "0      290.000000      143.000000      135.000000      204.000000\n",
       "1       50.115676      178.725731      199.601213       49.677711\n",
       "2       72.000000       55.000000       28.000000       51.000000\n",
       "3        6.000000        1.000000        4.000000        5.000000"
      ]
     },
     "execution_count": 35,
     "metadata": {},
     "output_type": "execute_result"
    }
   ],
   "source": [
    "df=df.rename(columns={0:'Random Value 1',1: 'Random Value 2', 2:'Random Value 3', 3:'Random Value 4'})\n",
    "df"
   ]
  },
  {
   "cell_type": "markdown",
   "id": "356db36a",
   "metadata": {},
   "source": [
    "# Task 3"
   ]
  },
  {
   "cell_type": "code",
   "execution_count": 36,
   "id": "5ebac9d3",
   "metadata": {},
   "outputs": [
    {
     "name": "stdout",
     "output_type": "stream",
     "text": [
      "The Descriptive statistics of dataframe are: \n",
      "       Random Value 1  Random Value 2  Random Value 3  Random Value 4\n",
      "count        4.000000        4.000000        4.000000        4.000000\n",
      "mean       104.528919       94.431433       91.650303       77.419428\n",
      "std        126.657545       81.135083       91.772421       87.053248\n",
      "min          6.000000        1.000000        4.000000        5.000000\n",
      "25%         39.086757       41.500000       22.000000       38.508284\n",
      "50%         61.057838       99.000000       81.500000       50.338856\n",
      "75%        126.500000      151.931433      151.150303       89.250000\n",
      "max        290.000000      178.725731      199.601213      204.000000\n"
     ]
    }
   ],
   "source": [
    "print(\"The Descriptive statistics of dataframe are: \")\n",
    "print(df.describe())"
   ]
  },
  {
   "cell_type": "markdown",
   "id": "53e44531",
   "metadata": {},
   "source": [
    "# Task 4"
   ]
  },
  {
   "cell_type": "code",
   "execution_count": 37,
   "id": "bd1e32c6",
   "metadata": {},
   "outputs": [
    {
     "name": "stdout",
     "output_type": "stream",
     "text": [
      "   Random Value 1  Random Value 2  Random Value 3  Random Value 4\n",
      "0           False           False           False           False\n",
      "1           False           False           False           False\n",
      "2           False           False           False           False\n",
      "3           False           False           False           False\n",
      "Random Value 1    0\n",
      "Random Value 2    0\n",
      "Random Value 3    0\n",
      "Random Value 4    0\n",
      "dtype: int64\n"
     ]
    }
   ],
   "source": [
    "print(df.isnull())\n",
    "print(df.isnull().sum())"
   ]
  },
  {
   "cell_type": "code",
   "execution_count": 38,
   "id": "679e7db1",
   "metadata": {},
   "outputs": [
    {
     "name": "stdout",
     "output_type": "stream",
     "text": [
      "Data type of column Random Value 1 is :  float64\n",
      "Data type of column Random Value 2 is :  float64\n",
      "Data type of column Random Value 3 is :  float64\n",
      "Data type of column Random Value 4 is :  float64\n"
     ]
    }
   ],
   "source": [
    "for i in df.columns:\n",
    "    print(\"Data type of column \"+str(i)+\" is : \",df[i].dtype)"
   ]
  },
  {
   "cell_type": "markdown",
   "id": "570e656a",
   "metadata": {},
   "source": [
    "# Task 5"
   ]
  },
  {
   "cell_type": "code",
   "execution_count": 40,
   "id": "9f6fee6f",
   "metadata": {},
   "outputs": [
    {
     "data": {
      "text/html": [
       "<div>\n",
       "<style scoped>\n",
       "    .dataframe tbody tr th:only-of-type {\n",
       "        vertical-align: middle;\n",
       "    }\n",
       "\n",
       "    .dataframe tbody tr th {\n",
       "        vertical-align: top;\n",
       "    }\n",
       "\n",
       "    .dataframe thead th {\n",
       "        text-align: right;\n",
       "    }\n",
       "</style>\n",
       "<table border=\"1\" class=\"dataframe\">\n",
       "  <thead>\n",
       "    <tr style=\"text-align: right;\">\n",
       "      <th></th>\n",
       "      <th>Random Value 2</th>\n",
       "      <th>Random Value 3</th>\n",
       "    </tr>\n",
       "  </thead>\n",
       "  <tbody>\n",
       "    <tr>\n",
       "      <th>0</th>\n",
       "      <td>143.000000</td>\n",
       "      <td>135.000000</td>\n",
       "    </tr>\n",
       "    <tr>\n",
       "      <th>1</th>\n",
       "      <td>178.725731</td>\n",
       "      <td>199.601213</td>\n",
       "    </tr>\n",
       "    <tr>\n",
       "      <th>2</th>\n",
       "      <td>55.000000</td>\n",
       "      <td>28.000000</td>\n",
       "    </tr>\n",
       "    <tr>\n",
       "      <th>3</th>\n",
       "      <td>1.000000</td>\n",
       "      <td>4.000000</td>\n",
       "    </tr>\n",
       "  </tbody>\n",
       "</table>\n",
       "</div>"
      ],
      "text/plain": [
       "   Random Value 2  Random Value 3\n",
       "0      143.000000      135.000000\n",
       "1      178.725731      199.601213\n",
       "2       55.000000       28.000000\n",
       "3        1.000000        4.000000"
      ]
     },
     "execution_count": 40,
     "metadata": {},
     "output_type": "execute_result"
    }
   ],
   "source": [
    "df.loc[:,'Random Value 2':'Random Value 3']"
   ]
  },
  {
   "cell_type": "code",
   "execution_count": 41,
   "id": "63ed73ec",
   "metadata": {},
   "outputs": [
    {
     "data": {
      "text/html": [
       "<div>\n",
       "<style scoped>\n",
       "    .dataframe tbody tr th:only-of-type {\n",
       "        vertical-align: middle;\n",
       "    }\n",
       "\n",
       "    .dataframe tbody tr th {\n",
       "        vertical-align: top;\n",
       "    }\n",
       "\n",
       "    .dataframe thead th {\n",
       "        text-align: right;\n",
       "    }\n",
       "</style>\n",
       "<table border=\"1\" class=\"dataframe\">\n",
       "  <thead>\n",
       "    <tr style=\"text-align: right;\">\n",
       "      <th></th>\n",
       "      <th>Random Value 3</th>\n",
       "      <th>Random Value 4</th>\n",
       "    </tr>\n",
       "  </thead>\n",
       "  <tbody>\n",
       "    <tr>\n",
       "      <th>0</th>\n",
       "      <td>135.000000</td>\n",
       "      <td>204.000000</td>\n",
       "    </tr>\n",
       "    <tr>\n",
       "      <th>1</th>\n",
       "      <td>199.601213</td>\n",
       "      <td>49.677711</td>\n",
       "    </tr>\n",
       "    <tr>\n",
       "      <th>2</th>\n",
       "      <td>28.000000</td>\n",
       "      <td>51.000000</td>\n",
       "    </tr>\n",
       "    <tr>\n",
       "      <th>3</th>\n",
       "      <td>4.000000</td>\n",
       "      <td>5.000000</td>\n",
       "    </tr>\n",
       "  </tbody>\n",
       "</table>\n",
       "</div>"
      ],
      "text/plain": [
       "   Random Value 3  Random Value 4\n",
       "0      135.000000      204.000000\n",
       "1      199.601213       49.677711\n",
       "2       28.000000       51.000000\n",
       "3        4.000000        5.000000"
      ]
     },
     "execution_count": 41,
     "metadata": {},
     "output_type": "execute_result"
    }
   ],
   "source": [
    "df.iloc[:,2:4]"
   ]
  },
  {
   "cell_type": "code",
   "execution_count": null,
   "id": "24c9e1c6",
   "metadata": {},
   "outputs": [],
   "source": []
  }
 ],
 "metadata": {
  "kernelspec": {
   "display_name": "Python 3 (ipykernel)",
   "language": "python",
   "name": "python3"
  },
  "language_info": {
   "codemirror_mode": {
    "name": "ipython",
    "version": 3
   },
   "file_extension": ".py",
   "mimetype": "text/x-python",
   "name": "python",
   "nbconvert_exporter": "python",
   "pygments_lexer": "ipython3",
   "version": "3.9.13"
  }
 },
 "nbformat": 4,
 "nbformat_minor": 5
}
